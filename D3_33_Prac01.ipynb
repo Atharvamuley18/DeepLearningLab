{
  "nbformat": 4,
  "nbformat_minor": 0,
  "metadata": {
    "colab": {
      "provenance": []
    },
    "kernelspec": {
      "name": "python3",
      "display_name": "Python 3"
    },
    "language_info": {
      "name": "python"
    }
  },
  "cells": [
    {
      "cell_type": "code",
      "execution_count": null,
      "metadata": {
        "id": "j4uI33kip05g"
      },
      "outputs": [],
      "source": [
        "\n",
        "x_input=[0.1,0.5,0.2]\n",
        "w_weight=[0.4,0.3,0.6]\n",
        "threshold = 0.5"
      ]
    },
    {
      "cell_type": "code",
      "source": [
        "def step(weighted_sum):\n",
        "  if weighted_sum >= threshold:\n",
        "    return 1\n",
        "  else:\n",
        "    return 0\n"
      ],
      "metadata": {
        "id": "IjoUll91qUn0"
      },
      "execution_count": null,
      "outputs": []
    },
    {
      "cell_type": "code",
      "source": [
        "def perceptron():\n",
        "  weighted_sum=0\n",
        "  for x,w in zip(x_input,w_weight):\n",
        "    weighted_sum += x*w\n",
        "    print(weighted_sum)\n",
        "  return step(weighted_sum)\n"
      ],
      "metadata": {
        "id": "ZPmRXLQmqUuq"
      },
      "execution_count": null,
      "outputs": []
    },
    {
      "cell_type": "code",
      "source": [
        "output = perceptron()\n",
        "print('output',output)"
      ],
      "metadata": {
        "colab": {
          "base_uri": "https://localhost:8080/"
        },
        "id": "wfKNYOVIqUxq",
        "outputId": "a357b8b7-81b9-4334-e15e-ef48f941d4de"
      },
      "execution_count": null,
      "outputs": [
        {
          "output_type": "stream",
          "name": "stdout",
          "text": [
            "0.04000000000000001\n",
            "0.19\n",
            "0.31\n",
            "output 0\n"
          ]
        }
      ]
    },
    {
      "cell_type": "code",
      "source": [
        "import numpy as np\n",
        "\n",
        "# define Unit Step Function\n",
        "def unitStep(v):\n",
        "    if v >= 0:\n",
        "        return 1\n",
        "    else:\n",
        "        return 0\n",
        "\n",
        "# design Perceptron Model\n",
        "def perceptronModel(x, w, b):\n",
        "    v = np.dot(w, x) + b\n",
        "    y = unitStep(v)\n",
        "    return y\n",
        "\n",
        "# AND Logic Function\n",
        "# w1 = 1, w2 = 1, b = -1.5\n",
        "def AND_logicFunction(x):\n",
        "    w = np.array([1, 1])\n",
        "    b = -1.5\n",
        "    return perceptronModel(x, w, b)\n",
        "\n",
        "# testing the Perceptron Model\n",
        "test1 = np.array([0, 1])\n",
        "test2 = np.array([1, 1])\n",
        "test3 = np.array([0, 0])\n",
        "test4 = np.array([1, 0])\n",
        "\n",
        "print(\"AND({}, {}) = {}\".format(0, 1, AND_logicFunction(test1)))\n",
        "print(\"AND({}, {}) = {}\".format(1, 1, AND_logicFunction(test2)))\n",
        "print(\"AND({}, {}) = {}\".format(0, 0, AND_logicFunction(test3)))\n",
        "print(\"AND({}, {}) = {}\".format(1, 0, AND_logicFunction(test4)))"
      ],
      "metadata": {
        "id": "y5WhEsoFsSms",
        "colab": {
          "base_uri": "https://localhost:8080/"
        },
        "outputId": "1af24881-3630-4c4c-f96b-7f43c2e7b9ad"
      },
      "execution_count": null,
      "outputs": [
        {
          "output_type": "stream",
          "name": "stdout",
          "text": [
            "AND(0, 1) = 0\n",
            "AND(1, 1) = 1\n",
            "AND(0, 0) = 0\n",
            "AND(1, 0) = 0\n"
          ]
        }
      ]
    },
    {
      "cell_type": "code",
      "source": [
        "#AND  GATE"
      ],
      "metadata": {
        "id": "AvJiza2lEyRk"
      },
      "execution_count": null,
      "outputs": []
    },
    {
      "cell_type": "code",
      "source": [
        "x1_input=[0,1,0,1]\n",
        "x2_input=[0,0,1,1]\n",
        "w1_weight=[1,1,1,1]\n",
        "w2_weight=[1,1,1,1]\n",
        "threshold = 2"
      ],
      "metadata": {
        "id": "uOfxFgaeEyO0"
      },
      "execution_count": null,
      "outputs": []
    },
    {
      "cell_type": "code",
      "source": [
        "def step(weighted_sum):\n",
        "  if weighted_sum > threshold:\n",
        "    return 1\n",
        "  else:\n",
        "    return 0"
      ],
      "metadata": {
        "id": "xzqmejSsEyMd"
      },
      "execution_count": null,
      "outputs": []
    },
    {
      "cell_type": "code",
      "source": [
        "def perceptron():\n",
        "  bias=1\n",
        "  for x1,w1,x2,w2 in zip(x1_input,w1_weight,x2_input,w2_weight):\n",
        "    print(x1,x2,w1,w2)\n",
        "    weighted_sum = x1*w1+x2*w2+bias\n",
        "    print(\"weight:\",weighted_sum)\n",
        "    print(\"AND Output:\",step(weighted_sum))"
      ],
      "metadata": {
        "id": "-UrX3H-uEyKE"
      },
      "execution_count": null,
      "outputs": []
    },
    {
      "cell_type": "code",
      "source": [
        "perceptron()"
      ],
      "metadata": {
        "id": "7SbMS2E2EyH1",
        "colab": {
          "base_uri": "https://localhost:8080/"
        },
        "outputId": "d9cae328-f6ac-45d0-acb8-2ce239b5ba1d"
      },
      "execution_count": null,
      "outputs": [
        {
          "output_type": "stream",
          "name": "stdout",
          "text": [
            "0 0 1 1\n",
            "weight: 1\n",
            "AND Output: 0\n",
            "1 0 1 1\n",
            "weight: 2\n",
            "AND Output: 0\n",
            "0 1 1 1\n",
            "weight: 2\n",
            "AND Output: 0\n",
            "1 1 1 1\n",
            "weight: 3\n",
            "AND Output: 1\n"
          ]
        }
      ]
    },
    {
      "cell_type": "code",
      "source": [
        "weighted_sum=0\n",
        "for i in range(5):\n",
        "  weighted_sum=weighted_sum+1\n",
        "  print(weighted_sum)\n"
      ],
      "metadata": {
        "colab": {
          "base_uri": "https://localhost:8080/"
        },
        "id": "ZC3upeanrenn",
        "outputId": "4182119a-13df-4a9c-f06b-a606c6e89c38"
      },
      "execution_count": null,
      "outputs": [
        {
          "output_type": "stream",
          "name": "stdout",
          "text": [
            "1\n",
            "2\n",
            "3\n",
            "4\n",
            "5\n"
          ]
        }
      ]
    },
    {
      "cell_type": "code",
      "source": [
        "#OR GATE"
      ],
      "metadata": {
        "id": "Voa-kJplrelY"
      },
      "execution_count": null,
      "outputs": []
    },
    {
      "cell_type": "code",
      "source": [
        "x1_input=[0,1,0,1]\n",
        "x2_input=[0,0,1,1]\n",
        "w1_weight=[1,1,1,1]\n",
        "w2_weight=[1,1,1,1]\n",
        "threshold = 1"
      ],
      "metadata": {
        "id": "W2cVFRKOrejH"
      },
      "execution_count": null,
      "outputs": []
    },
    {
      "cell_type": "code",
      "source": [
        "def step(weighted_sum1):\n",
        "  if weighted_sum1 > threshold:\n",
        "    return 1\n",
        "  else:\n",
        "    return 0"
      ],
      "metadata": {
        "id": "e4LevaODregv"
      },
      "execution_count": null,
      "outputs": []
    },
    {
      "cell_type": "code",
      "source": [
        "def perceptron1():\n",
        "  bias=1\n",
        "  for x1,w1,x2,w2 in zip(x1_input,w1_weight,x2_input,w2_weight):\n",
        "    print(x1,x2,w1,w2)\n",
        "    weighted_sum1 = x1*w1+x2*w2+bias\n",
        "    print(\"weight:\",weighted_sum1)\n",
        "    print(\"OR Output:\",step(weighted_sum1))"
      ],
      "metadata": {
        "id": "rstD1Dv62C0_"
      },
      "execution_count": null,
      "outputs": []
    },
    {
      "cell_type": "code",
      "source": [
        "perceptron1()"
      ],
      "metadata": {
        "colab": {
          "base_uri": "https://localhost:8080/"
        },
        "id": "jZWGlTYd2Cwn",
        "outputId": "04368906-aa34-4ac7-f59b-261618d0b2a8"
      },
      "execution_count": null,
      "outputs": [
        {
          "output_type": "stream",
          "name": "stdout",
          "text": [
            "0 0 1 1\n",
            "weight: 1\n",
            "OR Output: 0\n",
            "1 0 1 1\n",
            "weight: 2\n",
            "OR Output: 1\n",
            "0 1 1 1\n",
            "weight: 2\n",
            "OR Output: 1\n",
            "1 1 1 1\n",
            "weight: 3\n",
            "OR Output: 1\n"
          ]
        }
      ]
    },
    {
      "cell_type": "code",
      "source": [],
      "metadata": {
        "id": "VAykGWMl2CsP"
      },
      "execution_count": null,
      "outputs": []
    },
    {
      "cell_type": "markdown",
      "source": [
        "**Classification Of Points**"
      ],
      "metadata": {
        "id": "VWRZiGGIAzYV"
      }
    },
    {
      "cell_type": "code",
      "source": [
        "import numpy as np"
      ],
      "metadata": {
        "id": "hROSc6EE4XmQ"
      },
      "execution_count": null,
      "outputs": []
    },
    {
      "cell_type": "code",
      "source": [
        "data_points = {\n",
        "    'P0':np.array([-1,-1,-1]),\n",
        "    'P1':np.array([-1,-1, 1]),\n",
        "    'P2':np.array([-1, 1,-1]),\n",
        "    'P3':np.array([-1, 1, 1]),\n",
        "    'P4':np.array([ 1,-1,-1]),\n",
        "    'P5':np.array([ 1,-1, 1]),\n",
        "    'P6':np.array([ 1, 1,-1]),\n",
        "    'P7':np.array([ 1, 1, 1])\n",
        "}"
      ],
      "metadata": {
        "id": "fFwbavzX4Xjv"
      },
      "execution_count": null,
      "outputs": []
    },
    {
      "cell_type": "code",
      "source": [
        "weights = np.zeros(len(data_points['P0']))\n",
        "bias = 0\n",
        "print(weights)"
      ],
      "metadata": {
        "id": "W0_gUVDA4Xhf"
      },
      "execution_count": null,
      "outputs": []
    },
    {
      "cell_type": "code",
      "source": [
        "C1 = ['P7']\n",
        "C2 = ['P0','P1','P2','P3','P4','P5','P6']"
      ],
      "metadata": {
        "id": "XQCIMcHT4XfI"
      },
      "execution_count": null,
      "outputs": []
    },
    {
      "cell_type": "code",
      "source": [
        "#Define the learning rate\n",
        "learning_rate = 1\n",
        "epoch =100"
      ],
      "metadata": {
        "id": "f-TCjR4O4Xc4"
      },
      "execution_count": null,
      "outputs": []
    },
    {
      "cell_type": "code",
      "source": [
        "for epoch in range(epoch):\n",
        "  for point in C2:\n",
        "    x = data_points[point]\n",
        "    y = 1 #C2 is the positive class\n",
        "\n",
        "    #Claculate the prediction\n",
        "    prediction = np.dot(weights,x)+bias\n",
        "\n",
        "    #update weights and bias based on the prediction\n",
        "    if(prediction <=0):\n",
        "      weights += learning_rate * x\n",
        "      bias += learning_rate\n"
      ],
      "metadata": {
        "id": "-Y5Ehql69uwv"
      },
      "execution_count": null,
      "outputs": []
    },
    {
      "cell_type": "code",
      "source": [
        "new_point = np.array([1, 1, 1])\n",
        "prediction = np.dot(weights,new_point) + bias\n"
      ],
      "metadata": {
        "id": "KS7va5Q59ut_"
      },
      "execution_count": null,
      "outputs": []
    },
    {
      "cell_type": "code",
      "source": [],
      "metadata": {
        "id": "EGVueMVoBjfH"
      },
      "execution_count": null,
      "outputs": []
    },
    {
      "cell_type": "code",
      "source": [
        "# Classify the new point\n",
        "\n",
        "if(prediction > 0):\n",
        "  print(f'The new point{new_point} belongs to class C2.')\n",
        "else:\n",
        "  print(f'The new point{new_point} belongs to class C1.')"
      ],
      "metadata": {
        "colab": {
          "base_uri": "https://localhost:8080/"
        },
        "id": "qzj6yOJ59urP",
        "outputId": "5bdae0d7-633a-41ad-95d4-e0337071800c"
      },
      "execution_count": null,
      "outputs": [
        {
          "output_type": "stream",
          "name": "stdout",
          "text": [
            "The new point[1 1 1] belongs to class C1.\n"
          ]
        }
      ]
    },
    {
      "cell_type": "code",
      "source": [],
      "metadata": {
        "id": "1siqQLtbAbgv"
      },
      "execution_count": null,
      "outputs": []
    },
    {
      "cell_type": "code",
      "source": [],
      "metadata": {
        "id": "gQMqzdTBsSvS"
      },
      "execution_count": null,
      "outputs": []
    },
    {
      "cell_type": "markdown",
      "source": [
        "**NAND and NOR Gate using Single Perceptron**"
      ],
      "metadata": {
        "id": "hqmPRz9Z889o"
      }
    },
    {
      "cell_type": "code",
      "source": [
        "import numpy as np\n",
        "\n",
        "# Define the step function\n",
        "def step_function(x):\n",
        "    return 1 if x <= 0 else 0  # Changed the condition\n",
        "\n",
        "# Define NOR gate logic\n",
        "def NOR_gate(x1, x2):\n",
        "    weights = np.array([1, 1])  # Weights for NOR gate\n",
        "    bias = -0.5  # Bias for NOR gate\n",
        "    inputs = np.array([x1, x2])\n",
        "    weighted_sum = np.dot(inputs, weights) + bias\n",
        "    output = step_function(weighted_sum)\n",
        "    return output\n",
        "\n",
        "# Define NAND gate logic\n",
        "def NAND_gate(x1, x2):\n",
        "    weights = np.array([1, 1])  # Weights for NAND gate\n",
        "    bias = -1.5  # Bias for NAND gate\n",
        "    inputs = np.array([x1, x2])\n",
        "    weighted_sum = np.dot(inputs, weights) + bias\n",
        "    output = step_function(weighted_sum)\n",
        "    return output\n",
        "\n",
        "# Test NOR gate\n",
        "print(\"NOR gate:\")\n",
        "print(\"0 NOR 0 =\", NOR_gate(0, 0))\n",
        "print(\"0 NOR 1 =\", NOR_gate(0, 1))\n",
        "print(\"1 NOR 0 =\", NOR_gate(1, 0))\n",
        "print(\"1 NOR 1 =\", NOR_gate(1, 1))\n",
        "\n",
        "# Test NAND gate\n",
        "print(\"\\nNAND gate:\")\n",
        "print(\"0 NAND 0 =\", NAND_gate(0, 0))\n",
        "print(\"0 NAND 1 =\", NAND_gate(0, 1))\n",
        "print(\"1 NAND 0 =\", NAND_gate(1, 0))\n",
        "print(\"1 NAND 1 =\", NAND_gate(1, 1))\n"
      ],
      "metadata": {
        "colab": {
          "base_uri": "https://localhost:8080/"
        },
        "id": "r_aFEu329EaW",
        "outputId": "eba3160c-58e2-448d-9cd7-f05e87da4dcb"
      },
      "execution_count": null,
      "outputs": [
        {
          "output_type": "stream",
          "name": "stdout",
          "text": [
            "NOR gate:\n",
            "0 NOR 0 = 1\n",
            "0 NOR 1 = 0\n",
            "1 NOR 0 = 0\n",
            "1 NOR 1 = 0\n",
            "\n",
            "NAND gate:\n",
            "0 NAND 0 = 1\n",
            "0 NAND 1 = 1\n",
            "1 NAND 0 = 1\n",
            "1 NAND 1 = 0\n"
          ]
        }
      ]
    },
    {
      "cell_type": "code",
      "source": [],
      "metadata": {
        "id": "zR0epJjs9D6X"
      },
      "execution_count": null,
      "outputs": []
    },
    {
      "cell_type": "markdown",
      "source": [
        "**Linearly Separable**"
      ],
      "metadata": {
        "id": "WubjLtQO_agg"
      }
    },
    {
      "cell_type": "code",
      "source": [
        "import numpy as np\n",
        "\n",
        "# Define the data points\n",
        "data = np.array([\n",
        "    [-1, -1, -1],\n",
        "    [-1, -1, 1],\n",
        "    [-1, 1, -1],\n",
        "    [-1, 1, 1],\n",
        "    [1, -1, -1],\n",
        "    [1, -1, 1],\n",
        "    [1, 1, -1],\n",
        "    [1, 1, 1],\n",
        "])\n",
        "\n",
        "# Define the target labels\n",
        "labels = np.array([0, 0, 0, 0, 1, 1, 1, 1])\n",
        "\n",
        "# Function to check if a hyperplane separates the data\n",
        "def is_separable(w, b):\n",
        "    # Calculate the dot product of each data point and the hyperplane\n",
        "    dot_products = np.dot(data, w) + b\n",
        "\n",
        "    # Check if all points of the same class have the same sign of the dot product\n",
        "    for i in range(len(data)):\n",
        "        if labels[i] == 0 and dot_products[i] > 0:\n",
        "            return False\n",
        "        if labels[i] == 1 and dot_products[i] < 0:\n",
        "            return False\n",
        "\n",
        "    return True\n",
        "\n",
        "# Count the number of linearly separable problems\n",
        "num_separable = 0\n",
        "for i in range(len(data)):\n",
        "    for j in range(i + 1, len(data)):\n",
        "        # Check separability for all pairs of points\n",
        "        w = data[j] - data[i]\n",
        "        b = -np.dot(w, data[i])\n",
        "        if is_separable(w, b):\n",
        "            num_separable += 1\n",
        "\n",
        "print(\"Number of linearly separable problems:\", num_separable)\n"
      ],
      "metadata": {
        "colab": {
          "base_uri": "https://localhost:8080/"
        },
        "id": "S1KQU_H_BhDK",
        "outputId": "e3c1975e-f048-47ad-c9d5-6ada2924387a"
      },
      "execution_count": 5,
      "outputs": [
        {
          "output_type": "stream",
          "name": "stdout",
          "text": [
            "Number of linearly separable problems: 4\n"
          ]
        }
      ]
    }
  ]
}